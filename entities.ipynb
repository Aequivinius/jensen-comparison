{
 "cells": [
  {
   "cell_type": "code",
   "execution_count": 95,
   "metadata": {},
   "outputs": [],
   "source": [
    "import re\n",
    "import pandas\n",
    "\n",
    "comment_re = re.compile('^#.*')\n",
    "\n",
    "def tsv_to_jensen(input_path): \n",
    "    input_data = pandas.read_csv(input_path, delimiter='\\t', \n",
    "                                 encoding='utf-8', comment='#',\n",
    "                                 header=None,\n",
    "                                 names = [\"DiseaseName\",\"DiseaseID\",\"AltDiseaseIDs\",\"Definition\",\"ParentIDs\",\"TreeNumbers\",\"ParentTreeNumbers\",\"Synonyms\"])\n",
    "    entities_data = pandas.DataFrame(input_data['DiseaseID'])\n",
    "    entities_data['type'] = '-37'\n",
    "    entities_data['index'] = input_data.index\n",
    "    entities_data = entities_data[['index','type','DiseaseID']]\n",
    "    entities_data.to_csv('entities.tsv', index = False, header = False, sep = '\\t', encoding = 'utf-8')\n",
    "    \n",
    "    names_data = pandas.DataFrame(input_data[['DiseaseName','Synonyms']])\n",
    "    names_data['index'] = input_data.index\n",
    "    synonyms = []\n",
    "    for row in names_data.itertuples():\n",
    "        for synonym in str(row[2]).split('|'):\n",
    "            synonyms.append([row[0],synonym])\n",
    "    synonyms = pandas.DataFrame(synonyms,columns=[\"index\",\"DiseaseName\"])\n",
    "    \n",
    "    names_data = names_data[['index','DiseaseName']]\n",
    "    names_data = pandas.concat([names_data, synonyms])\n",
    "    names_data = names_data.sort_values('index')\n",
    "    names_data.to_csv('names.tsv',sep='\\t',index = False, header = False, encoding = 'utf-8')\n",
    "\n",
    "tsv_to_jensen('CTD_diseases.tsv')"
   ]
  },
  {
   "cell_type": "code",
   "execution_count": null,
   "metadata": {},
   "outputs": [],
   "source": []
  },
  {
   "cell_type": "code",
   "execution_count": null,
   "metadata": {},
   "outputs": [],
   "source": []
  }
 ],
 "metadata": {
  "kernelspec": {
   "display_name": "jensen_comparison",
   "language": "python",
   "name": "jensen_comparison"
  },
  "language_info": {
   "codemirror_mode": {
    "name": "ipython",
    "version": 3
   },
   "file_extension": ".py",
   "mimetype": "text/x-python",
   "name": "python",
   "nbconvert_exporter": "python",
   "pygments_lexer": "ipython3",
   "version": "3.7.1"
  }
 },
 "nbformat": 4,
 "nbformat_minor": 2
}
